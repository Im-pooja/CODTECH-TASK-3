{
  "nbformat": 4,
  "nbformat_minor": 0,
  "metadata": {
    "colab": {
      "provenance": []
    },
    "kernelspec": {
      "name": "python3",
      "display_name": "Python 3"
    },
    "language_info": {
      "name": "python"
    }
  },
  "cells": [
    {
      "cell_type": "code",
      "execution_count": null,
      "metadata": {
        "id": "vr92MB3dCFu2"
      },
      "outputs": [],
      "source": [
        "import pandas as pd\n",
        "import random\n",
        "\n",
        "# Define schema\n",
        "columns = [\"RecordNumber\", \"Country\", \"City\", \"Zipcode\", \"State\"]\n",
        "\n",
        "# Sample data from simple-zipcodes.csv\n",
        "cities = [\"PARC PARQUE\", \"PASEO COSTA DEL SUR\", \"BDA SAN LUIS\", \"HOLT\", \"HOMOSASSA\",\n",
        "          \"CINGULAR WIRELESS\", \"FORT WORTH\", \"FT WORTH\", \"SPRUCE PINE\", \"ASH HILL\",\n",
        "          \"URB EUGENE RICE\", \"MESA\", \"HILLIARD\", \"HOLDER\", \"SECT LANAUSSE\",\n",
        "          \"SPRING GARDEN\", \"SPRINGVILLE\", \"ASHEBORO\"]\n",
        "states = [\"PR\", \"FL\", \"TX\", \"AL\", \"NC\", \"AZ\"]\n",
        "zipcodes = [\"704\", \"709\", \"32564\", \"34487\", \"76166\", \"76177\", \"35585\", \"27007\",\n",
        "           \"85209\", \"85210\", \"32046\", \"34445\", \"35146\", \"27203\", \"27204\"]\n",
        "\n",
        "# Generate 100,000 rows\n",
        "num_rows = 100000\n",
        "data = [\n",
        "    (i, \"US\", random.choice(cities), random.choice(zipcodes), random.choice(states))\n",
        "    for i in range(1, num_rows + 1)\n",
        "]\n",
        "\n",
        "# Create DataFrame\n",
        "df = pd.DataFrame(data, columns=columns)\n",
        "df.head()"
      ]
    },
    {
      "cell_type": "code",
      "source": [
        "print(f\"Number of rows: {len(df)}\")\n",
        "print(f\"Number of columns: {len(df.columns)}\")\n",
        "print(df.isnull().sum())"
      ],
      "metadata": {
        "id": "iuuoQe7eCKDH"
      },
      "execution_count": null,
      "outputs": []
    },
    {
      "cell_type": "code",
      "source": [
        "import plotly.express as px\n",
        "\n",
        "# Group by state and count zip codes\n",
        "zip_by_state = df.groupby(\"State\").size().reset_index(name=\"zip_count\")\n",
        "\n",
        "# Create interactive bar chart\n",
        "fig1 = px.bar(zip_by_state, x=\"State\", y=\"zip_count\",\n",
        "              title=\"Distribution of Zip Codes by State\",\n",
        "              labels={\"zip_count\": \"Number of Zip Codes\", \"State\": \"State\"},\n",
        "              color=\"State\")\n",
        "fig1.update_layout(showlegend=False)\n",
        "fig1.show()\n",
        "\n",
        "# Export as HTML\n",
        "fig1.write_html(\"zip_by_state.html\")"
      ],
      "metadata": {
        "id": "d8gaIrCGCSw8"
      },
      "execution_count": null,
      "outputs": []
    },
    {
      "cell_type": "code",
      "source": [
        "# Group by city and count occurrences\n",
        "top_cities = df.groupby(\"City\").size().reset_index(name=\"count\").sort_values(\"count\", ascending=False).head(10)\n",
        "\n",
        "# Create interactive bar chart\n",
        "fig2 = px.bar(top_cities, x=\"count\", y=\"City\",\n",
        "              title=\"Top 10 Cities by Frequency\",\n",
        "              labels={\"count\": \"Number of Records\", \"City\": \"City\"},\n",
        "              color=\"City\")\n",
        "fig2.update_layout(showlegend=False)\n",
        "fig2.show()\n",
        "\n",
        "# Export as HTML\n",
        "fig2.write_html(\"top_cities.html\")"
      ],
      "metadata": {
        "id": "-DuV-DapCUoe"
      },
      "execution_count": null,
      "outputs": []
    },
    {
      "cell_type": "code",
      "source": [
        "# Sample 1000 rows for scatter plot to reduce rendering time\n",
        "df_sample = df.sample(n=1000, random_state=42)\n",
        "\n",
        "# Create interactive scatter plot\n",
        "fig3 = px.scatter(df_sample, x=\"RecordNumber\", y=\"State\",\n",
        "                  title=\"RecordNumber Distribution by State (Sampled)\",\n",
        "                  labels={\"RecordNumber\": \"Record Number\", \"State\": \"State\"},\n",
        "                  color=\"State\")\n",
        "fig3.update_layout(showlegend=True)\n",
        "fig3.show()\n",
        "\n",
        "# Export as HTML\n",
        "fig3.write_html(\"record_by_state.html\")"
      ],
      "metadata": {
        "id": "dnWxp540CZTs"
      },
      "execution_count": null,
      "outputs": []
    }
  ]
}